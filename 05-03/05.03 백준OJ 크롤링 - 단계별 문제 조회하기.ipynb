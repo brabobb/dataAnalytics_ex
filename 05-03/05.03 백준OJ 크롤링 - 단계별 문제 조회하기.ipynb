{
 "cells": [
  {
   "cell_type": "code",
   "execution_count": 1,
   "metadata": {},
   "outputs": [
    {
     "name": "stdout",
     "output_type": "stream",
     "text": [
      "Requirement already satisfied: selenium in c:\\users\\admin\\anaconda3\\lib\\site-packages (3.141.0)\n",
      "Requirement already satisfied: urllib3 in c:\\users\\admin\\anaconda3\\lib\\site-packages (from selenium) (1.25.11)\n",
      "Note: you may need to restart the kernel to use updated packages.\n"
     ]
    },
    {
     "name": "stderr",
     "output_type": "stream",
     "text": [
      "WARNING: Value for scheme.headers does not match. Please report this to <https://github.com/pypa/pip/issues/9617>\n",
      "distutils: C:\\Users\\Admin\\anaconda3\\Include\\UNKNOWN\n",
      "sysconfig: C:\\Users\\Admin\\anaconda3\\Include\n",
      "WARNING: Additional context:\n",
      "user = False\n",
      "home = None\n",
      "root = None\n",
      "prefix = None\n",
      "WARNING: Value for scheme.headers does not match. Please report this to <https://github.com/pypa/pip/issues/9617>\n",
      "distutils: C:\\Users\\Admin\\anaconda3\\Include\\UNKNOWN\n",
      "sysconfig: C:\\Users\\Admin\\anaconda3\\Include\n",
      "WARNING: Additional context:\n",
      "user = False\n",
      "home = None\n",
      "root = None\n",
      "prefix = None\n"
     ]
    }
   ],
   "source": [
    "pip install selenium"
   ]
  },
  {
   "cell_type": "markdown",
   "metadata": {},
   "source": [
    "# 백준OJ 크롤링 - 단계별 문제 조회하기"
   ]
  },
  {
   "cell_type": "code",
   "execution_count": 135,
   "metadata": {},
   "outputs": [
    {
     "name": "stdout",
     "output_type": "stream",
     "text": [
      "백준문제 열람하기\n",
      "원하는 단계를 입력하세요. 1단계부터 50단계까지 있습니다. 6\n",
      "6단계 : 함수\n",
      "원하는 단계를 입력하세요. 1단계부터 3단계까지 있습니다. \n",
      "3\n",
      "6-3 단계 : 한수\n",
      "\n",
      "어떤 양의 정수 X의 각 자리가 등차수열을 이룬다면, 그 수를 한수라고 한다. 등차수열은 연속된 두 개의 수의 차이가 일정한 수열을 말한다. N이 주어졌을 때, 1보다 크거나 같고, N보다 작거나 같은 한수의 개수를 출력하는 프로그램을 작성하시오. \n",
      "\n"
     ]
    }
   ],
   "source": [
    "from selenium import webdriver as wd\n",
    "from selenium.webdriver.common.keys import Keys\n",
    "driver = wd.Chrome(executable_path='C:/users/admin/chromedriver.exe')\n",
    "driver.get('https://www.acmicpc.net/step')\n",
    "# selenium webdriver에 대한 각종 명령어는 다음 사이트를 참고함 \n",
    "# https://lpla.tistory.com/17\n",
    "\n",
    "# 백준문제 단계별로 문제 조회하기\n",
    "import urllib.request\n",
    "from bs4 import BeautifulSoup as Bs\n",
    "\n",
    "url1 = \"https://www.acmicpc.net/step\" # 백준 단계별로 문제풀기 페이지\n",
    "req1 = urllib.request.Request(url1)\n",
    "sourcecode1 = urllib.request.urlopen(url1).read()\n",
    "soup1 = Bs(sourcecode1, \"html.parser\")\n",
    "\n",
    "print(\"백준문제 열람하기\")\n",
    "# 일단 webdriver로 창을 띄운 상태에서 코드를 진행\n",
    "\n",
    "# 단계를 입력받으면 그에 맞는 대분류 출력하고 접속\n",
    "problems_level = [href.text for href in soup1.find(\"div\", {\"class\" : \"table-responsive\"}).find_all(\"a\")]    # 대분류 제목들을 원소로 하는 리스트\n",
    "lvnum1 = input(\"원하는 단계를 입력하세요. 1단계부터 50단계까지 있습니다. \")\n",
    "print(lvnum1+'단계 :', problems_level[int(lvnum1) - 1])\n",
    "url2 = driver.find_element_by_css_selector('body > div.wrapper > div.container.content > div:nth-child(5) > div > div > table > tbody > tr:nth-child('\\\n",
    "                                           + lvnum1 + ') > td:nth-child(2) > a').get_attribute('href') # 해당 element에서 마우스 우클릭 → Copy selector로 복붙\n",
    "driver.get(url2) # 선택한 단계에 맞는 사이트로 접속\n",
    "\n",
    "# 대분류 정한 뒤 소분류 문제로 선택한 뒤 출력\n",
    "req2 = urllib.request.Request(url2)\n",
    "sourcecode2 = urllib.request.urlopen(url2).read()\n",
    "soup2 = Bs(sourcecode2, \"html.parser\")\n",
    "\n",
    "L = [href.text for href in soup2.find(\"table\", {\"class\" : \"table table-striped table-bordered sortable-table clickable-table\"}).find_all(\"a\")]\n",
    "problems = [i for i in L if L.index(i) % 3 == 0]    # 소문제 제목들을 원소로 하는 리스트\n",
    "print(\"원하는 단계를 입력하세요. 1단계부터\", str(len(problems))+ \"단계까지 있습니다. \")\n",
    "lvnum2 = input()\n",
    "print(lvnum1 + '-' + lvnum2, '단계 :', problems[int(lvnum2) - 1])\n",
    "url3 = driver.find_element_by_css_selector('body > div.wrapper > div.container.content > div:nth-child(5) > div > div > table > tbody > tr:nth-child('\\\n",
    "                                           + str(2 * int(lvnum2) - 1) + ') > td:nth-child(3) > a').get_attribute('href') # 해당 element에서 마우스 우클릭 → Copy selector로 복붙\n",
    "driver.get(url3) # 선택한 단계에 맞는 사이트로 접속\n",
    "\n",
    "# 단계 선택 후 해당 문제 출력\n",
    "req3 = urllib.request.Request(url3)\n",
    "sourcecode3 = urllib.request.urlopen(url3).read()\n",
    "soup3 = Bs(sourcecode3, \"html.parser\")\n",
    "\n",
    "print(soup3.find(\"div\", {\"id\":\"problem_description\"}, {\"class\" : \"problem-text\"}).text) # 문제 출력\n"
   ]
  },
  {
   "cell_type": "code",
   "execution_count": null,
   "metadata": {},
   "outputs": [],
   "source": []
  }
 ],
 "metadata": {
  "kernelspec": {
   "display_name": "Python 3",
   "language": "python",
   "name": "python3"
  },
  "language_info": {
   "codemirror_mode": {
    "name": "ipython",
    "version": 3
   },
   "file_extension": ".py",
   "mimetype": "text/x-python",
   "name": "python",
   "nbconvert_exporter": "python",
   "pygments_lexer": "ipython3",
   "version": "3.8.5"
  }
 },
 "nbformat": 4,
 "nbformat_minor": 4
}
